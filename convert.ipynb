{
 "cells": [
  {
   "cell_type": "code",
   "execution_count": null,
   "metadata": {},
   "outputs": [],
   "source": [
    "import pandas as pd"
   ]
  },
  {
   "cell_type": "code",
   "execution_count": null,
   "metadata": {},
   "outputs": [],
   "source": [
    "df = pd.read_csv(\"DQC_v2.tsv\", delimiter=\"\\t\", encoding=\"cp1252\")"
   ]
  },
  {
   "cell_type": "code",
   "execution_count": null,
   "metadata": {},
   "outputs": [],
   "source": [
    "df.head()"
   ]
  },
  {
   "cell_type": "code",
   "execution_count": null,
   "metadata": {},
   "outputs": [],
   "source": [
    "output_rows = []"
   ]
  },
  {
   "cell_type": "code",
   "execution_count": null,
   "metadata": {},
   "outputs": [],
   "source": [
    "years = [ \"S\", \"1652\", \"1742\", \"1755\", \"1885\", \"1949\", \"1950\", \"1999\", \"2003\" ]\n",
    "\n",
    "def get_year_value(year, row):\n",
    "    return row[year]\n",
    "\n",
    "def output():\n",
    "    # But only if it is not None\n",
    "    if current_set is None:\n",
    "        return\n",
    "        \n",
    "    for key in current_set:\n",
    "        year_dict = current_set[key]\n",
    "        output_rows.append(year_dict)"
   ]
  },
  {
   "cell_type": "code",
   "execution_count": null,
   "metadata": {},
   "outputs": [],
   "source": [
    "current_set = None\n",
    "\n",
    "for index, row in df.iterrows():\n",
    "    # Upon a new full record, push the current record to the output list\n",
    "    if row[\"lt\"] == \"a - text\":\n",
    "        output()\n",
    "\n",
    "        current_set = {}\n",
    "            \n",
    "        for year in years:\n",
    "            current_set[year] = {}\n",
    "            current_set[year][\"year\"] = year\n",
    "            current_set[year][\"corpus_text\"] = get_year_value(year, row)\n",
    "            current_set[year][\"#r\"] = row[\"#r\"]\n",
    "            current_set[year][\"#\"] = row[\"#\"]\n",
    "            current_set[year][\"chapter\"] = row[\"chapter\"]\n",
    "            current_set[year][\"text\"] = row[\"text\"]\n",
    "            current_set[year][\"ref\"] = row[\"ref\"]\n",
    "            current_set[year][\"pos\"] = row[\"pos\"]\n",
    "    elif row[\"lt\"] == \"b - strategy\":\n",
    "        for year in years:\n",
    "            current_set[year][\"strategy\"] = get_year_value(year, row)\n",
    "    elif row[\"lt\"] == \"c - strategy type\":\n",
    "        for year in years:\n",
    "            current_set[year][\"strategy_type\"] = get_year_value(year, row)\n",
    "    elif row[\"lt\"] == \"d - tense\":\n",
    "        for year in years:\n",
    "            current_set[year][\"tense\"] = get_year_value(year, row)\n",
    "    elif row[\"lt\"] == \"e - context\":\n",
    "        for year in years:\n",
    "            current_set[year][\"context\"] = get_year_value(year, row)\n",
    "    elif row[\"lt\"] == \"f - situation type\":\n",
    "        for year in years:\n",
    "            current_set[year][\"situation_type\"] = get_year_value(year, row)\n",
    "    elif row[\"lt\"] == \"g - comment\":\n",
    "        for year in years:\n",
    "            current_set[year][\"comment\"] = get_year_value(year, row)\n",
    "\n",
    "output()"
   ]
  },
  {
   "cell_type": "code",
   "execution_count": null,
   "metadata": {},
   "outputs": [],
   "source": [
    "output_df = pd.DataFrame.from_records(output_rows)\n",
    "output_df.fillna('', inplace=True)\n",
    "output_df.head()"
   ]
  },
  {
   "cell_type": "code",
   "execution_count": null,
   "metadata": {},
   "outputs": [],
   "source": [
    "output_df.to_csv(\"juliette_table.tsv\", sep=\"\\t\", index=None)\n",
    "output_df.to_excel(\"juliette_table.xlsx\")"
   ]
  }
 ],
 "metadata": {
  "kernelspec": {
   "display_name": "venv",
   "language": "python",
   "name": "python3"
  },
  "language_info": {
   "codemirror_mode": {
    "name": "ipython",
    "version": 3
   },
   "file_extension": ".py",
   "mimetype": "text/x-python",
   "name": "python",
   "nbconvert_exporter": "python",
   "pygments_lexer": "ipython3",
   "version": "3.10.12"
  }
 },
 "nbformat": 4,
 "nbformat_minor": 2
}
